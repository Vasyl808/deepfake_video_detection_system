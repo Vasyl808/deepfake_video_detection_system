{
  "nbformat": 4,
  "nbformat_minor": 0,
  "metadata": {
    "colab": {
      "provenance": []
    },
    "kernelspec": {
      "name": "python3",
      "display_name": "Python 3"
    },
    "language_info": {
      "name": "python"
    }
  },
  "cells": [
    {
      "cell_type": "code",
      "execution_count": null,
      "metadata": {
        "colab": {
          "base_uri": "https://localhost:8080/"
        },
        "id": "Xz7tJzKLcuuG",
        "outputId": "d364e948-0744-48ce-f32e-295dad9f966c"
      },
      "outputs": [
        {
          "output_type": "stream",
          "name": "stdout",
          "text": [
            "Warning: Looks like you're using an outdated `kagglehub` version (installed: 0.3.9), please consider upgrading to the latest version (0.3.10).\n",
            "Downloading from https://www.kaggle.com/api/v1/datasets/download/kangjiayong/deepfake-detection?dataset_version_number=1...\n"
          ]
        },
        {
          "output_type": "stream",
          "name": "stderr",
          "text": [
            "100%|██████████| 23.4G/23.4G [05:53<00:00, 71.1MB/s]"
          ]
        },
        {
          "output_type": "stream",
          "name": "stdout",
          "text": [
            "Extracting files...\n"
          ]
        },
        {
          "output_type": "stream",
          "name": "stderr",
          "text": [
            "\n"
          ]
        },
        {
          "output_type": "stream",
          "name": "stdout",
          "text": [
            "Path to dataset files: /root/.cache/kagglehub/datasets/kangjiayong/deepfake-detection/versions/1\n"
          ]
        }
      ],
      "source": [
        "import kagglehub\n",
        "\n",
        "\n",
        "path = kagglehub.dataset_download(\"kangjiayong/deepfake-detection\")\n",
        "\n",
        "print(\"Path to dataset files:\", path)"
      ]
    },
    {
      "cell_type": "code",
      "source": [
        "!ls /root/.cache/kagglehub/datasets/kangjiayong/deepfake-detection/versions/1/"
      ],
      "metadata": {
        "colab": {
          "base_uri": "https://localhost:8080/"
        },
        "id": "yERWp5H-foLu",
        "outputId": "a4c2a9e4-be3f-420f-f212-7953af3a8773"
      },
      "execution_count": null,
      "outputs": [
        {
          "output_type": "stream",
          "name": "stdout",
          "text": [
            "FAKE  REAL  selected_video.csv\tshape_predictor_68_face_landmarks.dat\n"
          ]
        }
      ]
    },
    {
      "cell_type": "code",
      "source": [
        "from typing import List, Tuple, Dict, Union\n",
        "from collections import defaultdict\n",
        "import os\n",
        "import cv2\n",
        "from typing import List, Tuple, Dict, Union\n",
        "import pandas as pd\n",
        "from tqdm import tqdm\n",
        "\n",
        "\n",
        "def convert_path(path: str) -> str:\n",
        "    for i in range(10):\n",
        "        path = path.replace(f'{i:02}', str(i))\n",
        "    return path\n",
        "\n",
        "\n",
        "def get_video_info(video_path: str) -> Union[Tuple[int, float], Tuple[None, None]]:\n",
        "    cap = cv2.VideoCapture(video_path)\n",
        "\n",
        "    if not cap.isOpened():\n",
        "        print(f\"Не вдалося відкрити файл: {video_path}\")\n",
        "        return None, None\n",
        "\n",
        "    frame_count = int(cap.get(cv2.CAP_PROP_FRAME_COUNT))\n",
        "    fps = cap.get(cv2.CAP_PROP_FPS)\n",
        "    cap.release()\n",
        "\n",
        "    return frame_count, fps\n",
        "\n",
        "\n",
        "def process_file_paths(df: pd.DataFrame) -> List[Tuple[str, str]]:\n",
        "    result: List[Tuple[str, str]] = []\n",
        "\n",
        "    for _, row in df.iterrows():\n",
        "        file_name = row['path']\n",
        "\n",
        "        path_parts = file_name.split('\\\\')\n",
        "        curr_path = path_parts[-1].replace('.zip', '')\n",
        "        file_path = os.path.join('/root/.cache/kagglehub/datasets/kangjiayong/deepfake-detection/versions/1/', row['label'], row['label'], convert_path(curr_path), row['file_name'])\n",
        "        file_path_target = os.path.join('/kaggle/working/deepfake-detection', row['label'], row['label'], convert_path(curr_path))\n",
        "\n",
        "        result.append((file_path, row['label']))\n",
        "\n",
        "    return result\n",
        "\n",
        "\n",
        "df = pd.read_csv('/root/.cache/kagglehub/datasets/kangjiayong/deepfake-detection/versions/1/selected_video.csv')\n",
        "\n",
        "video_stats = []\n",
        "for video_path, label in tqdm(process_file_paths(df)):\n",
        "    frame_count, fps = get_video_info(video_path)\n",
        "    if frame_count is not None and fps is not None:\n",
        "        video_stats.append({\n",
        "            'file_path': video_path,\n",
        "            'label': label,\n",
        "            'frames': frame_count,\n",
        "            'fps': fps\n",
        "        })\n",
        "\n",
        "df = pd.DataFrame(video_stats)\n",
        "\n",
        "stats_fps = df['fps'].describe()\n",
        "stats_frames = df['frames'].describe()\n",
        "\n",
        "print(\"FPS статистика:\")\n",
        "print(stats_fps)\n",
        "\n",
        "print(\"\\nКількість кадрів статистика:\")\n",
        "print(stats_frames)"
      ],
      "metadata": {
        "colab": {
          "base_uri": "https://localhost:8080/"
        },
        "id": "K-M510-Rc_Gg",
        "outputId": "4bb0732f-aa5e-4881-a052-728e4e79a543"
      },
      "execution_count": null,
      "outputs": [
        {
          "output_type": "stream",
          "name": "stderr",
          "text": [
            "100%|██████████| 5024/5024 [01:47<00:00, 46.72it/s]"
          ]
        },
        {
          "output_type": "stream",
          "name": "stdout",
          "text": [
            "FPS статистика:\n",
            "count    5024.000000\n",
            "mean       29.462446\n",
            "std         1.801130\n",
            "min        12.473600\n",
            "25%        29.964500\n",
            "50%        29.970000\n",
            "75%        29.970000\n",
            "max        30.079600\n",
            "Name: fps, dtype: float64\n",
            "\n",
            "Кількість кадрів статистика:\n",
            "count    5024.000000\n",
            "mean      294.985669\n",
            "std        17.884431\n",
            "min       125.000000\n",
            "25%       300.000000\n",
            "50%       300.000000\n",
            "75%       300.000000\n",
            "max       301.000000\n",
            "Name: frames, dtype: float64\n"
          ]
        },
        {
          "output_type": "stream",
          "name": "stderr",
          "text": [
            "\n"
          ]
        }
      ]
    }
  ]
}